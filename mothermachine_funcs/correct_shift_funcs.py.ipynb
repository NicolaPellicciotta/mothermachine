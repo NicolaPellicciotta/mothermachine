{
 "cells": [
  {
   "cell_type": "code",
   "execution_count": null,
   "metadata": {},
   "outputs": [],
   "source": [
    "from scipy.optimize import curve_fit, leastsq\n",
    "from scipy.signal import * \n",
    "from scipy.signal import fftconvolve\n",
    "from scipy.ndimage import *\n",
    "from numpy import fft\n",
    "from scipy.ndimage import gaussian_filter\n",
    "\n",
    "\n",
    "def getdata(i):\n",
    "    return loadframe(folder+'/BF%d.tiff'%i).data.astype(float)\n",
    "\n",
    "def myconvolve(im0, im1):\n",
    "    im0r=(im0-im0.mean())\n",
    "    im1r=(im1-im1.mean())[::-1, ::-1]\n",
    "    return fftconvolve(im0r, im1r, mode='same')\n",
    "\n",
    "def get_shift(im, ref):\n",
    "    cc = myconvolve(ref, im)\n",
    "    h,w=im.shape\n",
    "    yc, xc = h/2.-0.5, w/2.-0.5    \n",
    "    x,y = np.unravel_index(np.argmax(cc), cc.shape) # find the match\n",
    "    return x-xc, y-yc\n",
    "\n",
    "def correct_shift(im, ref):\n",
    "    dx,dy = get_shift(im, ref)      \n",
    "    sim=shift(im, (dx,dy), mode='wrap')\n",
    "    return sim, array([dx,dy])\n",
    "\n",
    "def get_allshift(fname, imax, s,skip=1):"
   ]
  }
 ],
 "metadata": {
  "kernelspec": {
   "display_name": "Python 2",
   "language": "python",
   "name": "python2"
  },
  "language_info": {
   "codemirror_mode": {
    "name": "ipython",
    "version": 2
   },
   "file_extension": ".py",
   "mimetype": "text/x-python",
   "name": "python",
   "nbconvert_exporter": "python",
   "pygments_lexer": "ipython2",
   "version": "2.7.9"
  }
 },
 "nbformat": 4,
 "nbformat_minor": 2
}
